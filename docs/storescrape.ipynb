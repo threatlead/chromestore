{
 "cells": [
  {
   "cell_type": "code",
   "execution_count": 1,
   "metadata": {},
   "outputs": [],
   "source": [
    "from chromestore.store import ChromeStore\n",
    "from pprint import pprint"
   ]
  },
  {
   "cell_type": "markdown",
   "source": [
    "# Chrome Store Features"
   ],
   "metadata": {
    "collapsed": false,
    "pycharm": {
     "name": "#%% md\n"
    }
   }
  },
  {
   "cell_type": "code",
   "execution_count": 2,
   "metadata": {},
   "outputs": [],
   "source": [
    "store = ChromeStore()"
   ]
  },
  {
   "cell_type": "markdown",
   "source": [
    "## Collect sitemaps from Chrome Store"
   ],
   "metadata": {
    "collapsed": false,
    "pycharm": {
     "name": "#%% md\n"
    }
   }
  },
  {
   "cell_type": "code",
   "execution_count": 3,
   "metadata": {},
   "outputs": [
    {
     "name": "stdout",
     "output_type": "stream",
     "text": [
      "['https://chrome.google.com/webstore/sitemap?shard=0&numshards=1096',\n",
      " 'https://chrome.google.com/webstore/sitemap?shard=1&numshards=1096',\n",
      " 'https://chrome.google.com/webstore/sitemap?shard=2&numshards=1096',\n",
      " 'https://chrome.google.com/webstore/sitemap?shard=3&numshards=1096',\n",
      " 'https://chrome.google.com/webstore/sitemap?shard=4&numshards=1096',\n",
      " 'https://chrome.google.com/webstore/sitemap?shard=5&numshards=1096',\n",
      " 'https://chrome.google.com/webstore/sitemap?shard=6&numshards=1096',\n",
      " 'https://chrome.google.com/webstore/sitemap?shard=7&numshards=1096',\n",
      " 'https://chrome.google.com/webstore/sitemap?shard=8&numshards=1096',\n",
      " 'https://chrome.google.com/webstore/sitemap?shard=9&numshards=1096']\n"
     ]
    }
   ],
   "source": [
    "sitemaps = store.get_sitemaps()\n",
    "pprint(sitemaps[0:10])"
   ]
  },
  {
   "cell_type": "markdown",
   "source": [
    "## Parse sitemap to generate list of extensions"
   ],
   "metadata": {
    "collapsed": false,
    "pycharm": {
     "name": "#%% md\n"
    }
   }
  },
  {
   "cell_type": "code",
   "execution_count": 4,
   "metadata": {},
   "outputs": [
    {
     "name": "stdout",
     "output_type": "stream",
     "text": [
      "[('bpcogbhmkdjaohcmlghhkiohmldpnkoh', 'copy-url-with-title'),\n",
      " ('kdfieneakcjfaiglcfcgkidlkmlijjnh', 'grammar-and-spelling-chec'),\n",
      " ('ehhjmhbnalijjjooiclcllebghpdkdim', 'busigoo-utility'),\n",
      " ('paoblfaildifpkfcjgagaeedjnmbmcoo', 'капля-воды'),\n",
      " ('idphlfbknichoencbjfcpfdjgedhkilb', 'clean-bandit-hd-wallpaper'),\n",
      " ('dkomeogpcilllmmaconjbmgnncbaaagf', 'salebox-websocket-server'),\n",
      " ('ngkicgeeociplndccdbhhhmpbmmglged', 'city-taxi-driving'),\n",
      " ('dlhhbidmekpnihdgcckajfjhoencdcee', 'lebron-james-hd-wallpaper'),\n",
      " ('cnkhgafbkcdclefdglbgdghohlomiofn', 'trello-priority'),\n",
      " ('dpbboilcojikdnfpponljmiohnhdjcaj', 'simpleclear')]\n"
     ]
    }
   ],
   "source": [
    "extensions = store.sitemap_to_extensions(sitemaps[0])\n",
    "pprint(extensions[0:10])"
   ]
  },
  {
   "cell_type": "markdown",
   "source": [
    "# Extension Features"
   ],
   "metadata": {
    "collapsed": false,
    "pycharm": {
     "name": "#%% md\n"
    }
   }
  },
  {
   "cell_type": "code",
   "execution_count": 5,
   "metadata": {},
   "outputs": [],
   "source": [
    "from chromestore.extensions import Extension"
   ]
  },
  {
   "cell_type": "code",
   "execution_count": 6,
   "metadata": {},
   "outputs": [
    {
     "name": "stdout",
     "output_type": "stream",
     "text": [
      "('bpcogbhmkdjaohcmlghhkiohmldpnkoh', 'copy-url-with-title')\n"
     ]
    }
   ],
   "source": [
    "extension_sample = extensions[0]\n",
    "pprint(extension_sample)"
   ]
  },
  {
   "cell_type": "markdown",
   "source": [
    "## Create extension object"
   ],
   "metadata": {
    "collapsed": false,
    "pycharm": {
     "name": "#%% md\n"
    }
   }
  },
  {
   "cell_type": "code",
   "execution_count": 7,
   "metadata": {},
   "outputs": [
    {
     "name": "stdout",
     "output_type": "stream",
     "text": [
      "'https://chrome.google.com/webstore/detail/copy-url-with-title/bpcogbhmkdjaohcmlghhkiohmldpnkoh'\n"
     ]
    }
   ],
   "source": [
    "extension = Extension(extension_id=extension_sample[0], extension_name_slug=extension_sample[1])\n",
    "pprint(extension.url)"
   ]
  },
  {
   "cell_type": "markdown",
   "source": [
    "## Get details for that extension"
   ],
   "metadata": {
    "collapsed": false,
    "pycharm": {
     "name": "#%% md\n"
    }
   }
  },
  {
   "cell_type": "code",
   "execution_count": 8,
   "metadata": {
    "pycharm": {
     "name": "#%%\n"
    }
   },
   "outputs": [
    {
     "name": "stdout",
     "output_type": "stream",
     "text": [
      "{'currency': 'USD',\n",
      " 'description': 'Copy title and URL using Control+C(Win/Linux) / '\n",
      "                'Command+C(Mac). you also can copy them in markdown link '\n",
      "                'format by using Alt+C(Win/Linux) / Option+C(Mac) Note that '\n",
      "                'this extension does nothing when you have focus in the text '\n",
      "                'area or have any objects already selected (default keyboard '\n",
      "                'shortcut behaviour is triggered).',\n",
      " 'image': 'https://lh3.googleusercontent.com/MFKdDmHXIOmKD6EiYRCkeiVRt-8S5NRd5yc8YYt-jnyicMlry3TMpxlCcjYr95nNSxatP608Seg=w640-h400-e365',\n",
      " 'interaction_count': 438,\n",
      " 'name': 'Copy URL with Title',\n",
      " 'offered_by': None,\n",
      " 'operating_system': 'Chrome',\n",
      " 'owner_address': None,\n",
      " 'owner_image': 'https://lh3.googleusercontent.com/AQOga54JE-wPN2w9NInozuDDC-5Aa7OIjaTAy9P4St-o2PsLgM5xwERMCrxDoDeXY7QfuN7jtQc=w128-h128-e365',\n",
      " 'owner_url': 'http://takashyx.com',\n",
      " 'price': 0.0,\n",
      " 'rating_count': 7,\n",
      " 'rating_value': 3.7142857142857144,\n",
      " 'size': 33211,\n",
      " 'summary': 'Copy title and URL using Ctrl+C(Win/Linux)/Command+C(Mac). Use '\n",
      "            'Alt+C(Win/Linux)/Option+C(Mac) to get them in markdown link '\n",
      "            'format.',\n",
      " 'updated': datetime.datetime(2020, 4, 4, 0, 0),\n",
      " 'version': '1.0.0.5',\n",
      " 'website': 'http://takashyx.com/portfolio/copy-url-with-title-2015/'}\n"
     ]
    }
   ],
   "source": [
    "extension.get_details()\n",
    "pprint(extension.dict())"
   ]
  }
 ],
 "metadata": {
  "kernelspec": {
   "display_name": "Python 3",
   "language": "python",
   "name": "python3"
  },
  "language_info": {
   "codemirror_mode": {
    "name": "ipython",
    "version": 3
   },
   "file_extension": ".py",
   "mimetype": "text/x-python",
   "name": "python",
   "nbconvert_exporter": "python",
   "pygments_lexer": "ipython3",
   "version": "3.8.2"
  }
 },
 "nbformat": 4,
 "nbformat_minor": 4
}